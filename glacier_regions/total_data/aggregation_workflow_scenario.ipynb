{
 "cells": [
  {
   "cell_type": "markdown",
   "id": "9354960e-57ef-4946-a6e8-6738d843a8d1",
   "metadata": {},
   "source": [
    "# Imports"
   ]
  },
  {
   "cell_type": "code",
   "execution_count": 1,
   "id": "71900536-6174-4d2a-81cb-b99de42a45f0",
   "metadata": {},
   "outputs": [],
   "source": [
    "import os\n",
    "import sys\n",
    "import json\n",
    "import xarray as xr\n",
    "import numpy as np\n",
    "import geopandas as gpd\n",
    "import matplotlib.pyplot as plt"
   ]
  },
  {
   "cell_type": "code",
   "execution_count": 2,
   "id": "8a3bc28b-3750-4c56-8f84-2687dbb7d95c",
   "metadata": {},
   "outputs": [],
   "source": [
    "# go up until we are in the project base directory\n",
    "base_dir = os.getcwd()\n",
    "while base_dir.split('/')[-1] != 'provide':\n",
    "    base_dir = os.path.normpath(os.path.join(base_dir, '..'))\n",
    "\n",
    "# add paths for tools and data\n",
    "things_to_add = ['general_tools', 'aggregation_tools', 'general_data_for_aggregation']\n",
    "for thing in things_to_add:\n",
    "    sys.path.append(os.path.join(base_dir, thing))\n",
    "\n",
    "# import stuff we need\n",
    "from general_tools import check_if_notebook, mkdir\n",
    "from oggm_result_filepath_and_realisations import (gcms_mesmer, quantiles_mesmer,\n",
    "    scenarios_mesmer, oggm_result_dir, provide_regions, raw_oggm_output_file)\n",
    "from aggregation_preprocessing import open_grid_from_dict\n",
    "from actual_aggregation import open_files_and_aggregate_on_map, aggregating_scenario, check_slurm_done"
   ]
  },
  {
   "cell_type": "code",
   "execution_count": 3,
   "id": "dc02dd72-15e8-4b98-862c-f505cea2bba0",
   "metadata": {},
   "outputs": [],
   "source": [
    "# Use this to conditionally execute tests/debugging\n",
    "if check_if_notebook():\n",
    "    is_notebook = True\n",
    "else:\n",
    "    is_notebook = False"
   ]
  },
  {
   "cell_type": "code",
   "execution_count": 10,
   "id": "0f6ad627-00eb-4fae-886d-823b6f09b047",
   "metadata": {},
   "outputs": [
    {
     "data": {
      "text/plain": [
       "20"
      ]
     },
     "execution_count": 10,
     "metadata": {},
     "output_type": "execute_result"
    }
   ],
   "source": [
    "len(gcms_mesmer)"
   ]
  },
  {
   "cell_type": "markdown",
   "id": "05510532-e4f8-4d01-adec-4c26cafb5e12",
   "metadata": {},
   "source": [
    "# Define directories"
   ]
  },
  {
   "cell_type": "code",
   "execution_count": 4,
   "id": "b3485fe2-7997-408f-a78f-46f9966efe23",
   "metadata": {},
   "outputs": [],
   "source": [
    "resolution_dir = 'total_data'"
   ]
  },
  {
   "cell_type": "code",
   "execution_count": 5,
   "id": "79e55adf-c4db-402f-bb8a-d0f734f8f9c2",
   "metadata": {},
   "outputs": [],
   "source": [
    "preprocess_region_dict_outpath = os.path.join(base_dir, 'glacier_regions', resolution_dir)\n",
    "mkdir(preprocess_region_dict_outpath);"
   ]
  },
  {
   "cell_type": "markdown",
   "id": "129ce9d5-24ed-4c0f-b50b-f1b968c760c7",
   "metadata": {},
   "source": [
    "# Open data"
   ]
  },
  {
   "cell_type": "code",
   "execution_count": 6,
   "id": "ac9386ee-37f2-42b9-8551-5582fcc57e12",
   "metadata": {},
   "outputs": [],
   "source": [
    "with open(os.path.join(preprocess_region_dict_outpath, \"preprocessed_region_grids.json\"), 'r') as f:\n",
    "    region_structure_dict = json.load(f)"
   ]
  },
  {
   "cell_type": "markdown",
   "id": "c4265641-76e8-4e41-a470-3f07e4418b1e",
   "metadata": {},
   "source": [
    "# Code for running on cluster"
   ]
  },
  {
   "cell_type": "markdown",
   "id": "2341ce12-b1da-4d1a-8455-35284e5f4282",
   "metadata": {},
   "source": [
    "## define experiments for multiprocessing"
   ]
  },
  {
   "cell_type": "code",
   "execution_count": 7,
   "id": "1d004caf-7615-4181-8235-ec38fe37d268",
   "metadata": {
    "scrolled": true
   },
   "outputs": [
    {
     "name": "stdout",
     "output_type": "stream",
     "text": [
      "{'1': ('arctic_canada', 'CurPol'), '2': ('arctic_canada', 'GS'), '3': ('arctic_canada', 'LD'), '4': ('arctic_canada', 'ModAct'), '5': ('arctic_canada', 'Ref'), '6': ('arctic_canada', 'Ren'), '7': ('arctic_canada', 'Neg'), '8': ('arctic_canada', 'SP'), '9': ('arctic_canada', 'ssp119'), '10': ('arctic_canada', 'ssp534-over'), '11': ('caucasus_and_middle_east', 'CurPol'), '12': ('caucasus_and_middle_east', 'GS'), '13': ('caucasus_and_middle_east', 'LD'), '14': ('caucasus_and_middle_east', 'ModAct'), '15': ('caucasus_and_middle_east', 'Ref'), '16': ('caucasus_and_middle_east', 'Ren'), '17': ('caucasus_and_middle_east', 'Neg'), '18': ('caucasus_and_middle_east', 'SP'), '19': ('caucasus_and_middle_east', 'ssp119'), '20': ('caucasus_and_middle_east', 'ssp534-over'), '21': ('central_asia', 'CurPol'), '22': ('central_asia', 'GS'), '23': ('central_asia', 'LD'), '24': ('central_asia', 'ModAct'), '25': ('central_asia', 'Ref'), '26': ('central_asia', 'Ren'), '27': ('central_asia', 'Neg'), '28': ('central_asia', 'SP'), '29': ('central_asia', 'ssp119'), '30': ('central_asia', 'ssp534-over'), '31': ('central_europe', 'CurPol'), '32': ('central_europe', 'GS'), '33': ('central_europe', 'LD'), '34': ('central_europe', 'ModAct'), '35': ('central_europe', 'Ref'), '36': ('central_europe', 'Ren'), '37': ('central_europe', 'Neg'), '38': ('central_europe', 'SP'), '39': ('central_europe', 'ssp119'), '40': ('central_europe', 'ssp534-over'), '41': ('east_asia', 'CurPol'), '42': ('east_asia', 'GS'), '43': ('east_asia', 'LD'), '44': ('east_asia', 'ModAct'), '45': ('east_asia', 'Ref'), '46': ('east_asia', 'Ren'), '47': ('east_asia', 'Neg'), '48': ('east_asia', 'SP'), '49': ('east_asia', 'ssp119'), '50': ('east_asia', 'ssp534-over'), '51': ('greenland_periphery', 'CurPol'), '52': ('greenland_periphery', 'GS'), '53': ('greenland_periphery', 'LD'), '54': ('greenland_periphery', 'ModAct'), '55': ('greenland_periphery', 'Ref'), '56': ('greenland_periphery', 'Ren'), '57': ('greenland_periphery', 'Neg'), '58': ('greenland_periphery', 'SP'), '59': ('greenland_periphery', 'ssp119'), '60': ('greenland_periphery', 'ssp534-over'), '61': ('new_zealand', 'CurPol'), '62': ('new_zealand', 'GS'), '63': ('new_zealand', 'LD'), '64': ('new_zealand', 'ModAct'), '65': ('new_zealand', 'Ref'), '66': ('new_zealand', 'Ren'), '67': ('new_zealand', 'Neg'), '68': ('new_zealand', 'SP'), '69': ('new_zealand', 'ssp119'), '70': ('new_zealand', 'ssp534-over'), '71': ('northern_andes', 'CurPol'), '72': ('northern_andes', 'GS'), '73': ('northern_andes', 'LD'), '74': ('northern_andes', 'ModAct'), '75': ('northern_andes', 'Ref'), '76': ('northern_andes', 'Ren'), '77': ('northern_andes', 'Neg'), '78': ('northern_andes', 'SP'), '79': ('northern_andes', 'ssp119'), '80': ('northern_andes', 'ssp534-over'), '81': ('scandinavia_and_iceland', 'CurPol'), '82': ('scandinavia_and_iceland', 'GS'), '83': ('scandinavia_and_iceland', 'LD'), '84': ('scandinavia_and_iceland', 'ModAct'), '85': ('scandinavia_and_iceland', 'Ref'), '86': ('scandinavia_and_iceland', 'Ren'), '87': ('scandinavia_and_iceland', 'Neg'), '88': ('scandinavia_and_iceland', 'SP'), '89': ('scandinavia_and_iceland', 'ssp119'), '90': ('scandinavia_and_iceland', 'ssp534-over'), '91': ('southern_andes', 'CurPol'), '92': ('southern_andes', 'GS'), '93': ('southern_andes', 'LD'), '94': ('southern_andes', 'ModAct'), '95': ('southern_andes', 'Ref'), '96': ('southern_andes', 'Ren'), '97': ('southern_andes', 'Neg'), '98': ('southern_andes', 'SP'), '99': ('southern_andes', 'ssp119'), '100': ('southern_andes', 'ssp534-over'), '101': ('svalbard,_jan_mayen_and_russian_arctic', 'CurPol'), '102': ('svalbard,_jan_mayen_and_russian_arctic', 'GS'), '103': ('svalbard,_jan_mayen_and_russian_arctic', 'LD'), '104': ('svalbard,_jan_mayen_and_russian_arctic', 'ModAct'), '105': ('svalbard,_jan_mayen_and_russian_arctic', 'Ref'), '106': ('svalbard,_jan_mayen_and_russian_arctic', 'Ren'), '107': ('svalbard,_jan_mayen_and_russian_arctic', 'Neg'), '108': ('svalbard,_jan_mayen_and_russian_arctic', 'SP'), '109': ('svalbard,_jan_mayen_and_russian_arctic', 'ssp119'), '110': ('svalbard,_jan_mayen_and_russian_arctic', 'ssp534-over'), '111': ('western_canada_and_usa', 'CurPol'), '112': ('western_canada_and_usa', 'GS'), '113': ('western_canada_and_usa', 'LD'), '114': ('western_canada_and_usa', 'ModAct'), '115': ('western_canada_and_usa', 'Ref'), '116': ('western_canada_and_usa', 'Ren'), '117': ('western_canada_and_usa', 'Neg'), '118': ('western_canada_and_usa', 'SP'), '119': ('western_canada_and_usa', 'ssp119'), '120': ('western_canada_and_usa', 'ssp534-over')}\n"
     ]
    }
   ],
   "source": [
    "# create dict for sbatch --array=\n",
    "slurm_arrays = {}\n",
    "\n",
    "count = 1\n",
    "for region in region_structure_dict.keys():\n",
    "    for scenario in scenarios_mesmer:\n",
    "        slurm_arrays[str(count)] = (region, scenario)\n",
    "        count += 1\n",
    "\n",
    "if is_notebook:\n",
    "    print(slurm_arrays)"
   ]
  },
  {
   "cell_type": "markdown",
   "id": "9cc6351e-0e5e-4286-8b51-1fe196761c41",
   "metadata": {},
   "source": [
    "## run current experiment"
   ]
  },
  {
   "cell_type": "code",
   "execution_count": null,
   "id": "80c02146-9206-4305-a45f-ff5fd00a441f",
   "metadata": {},
   "outputs": [],
   "source": [
    "if not is_notebook:\n",
    "    slurm_id = os.environ.get('ARRAY_ID', None)\n",
    "    # convert slurm array to region and scenario\n",
    "    region, scenario = slurm_arrays[slurm_id]\n",
    "\n",
    "    # save results on cluster and copy at the end in run_slurm-file\n",
    "    working_dir_cluster = os.environ.get('OGGM_WORKDIR', None)\n",
    "\n",
    "    aggregated_data_outpath = os.path.join(\n",
    "        working_dir_cluster, 'aggregated_data')\n",
    "    mkdir(aggregated_data_outpath);\n",
    "\n",
    "    aggregated_data_intermediate_outpath = os.path.join(\n",
    "        preprocess_region_dict_outpath,\n",
    "        'aggregated_data_intermediate')\n",
    "    mkdir(aggregated_data_intermediate_outpath);\n",
    "\n",
    "    aggregating_scenario(\n",
    "            target_name=region,\n",
    "            target_structure_dict=region_structure_dict,\n",
    "            scenario=scenario,\n",
    "            output_folder=aggregated_data_outpath,\n",
    "            oggm_result_dir=oggm_result_dir,\n",
    "            raw_oggm_output_file=raw_oggm_output_file,\n",
    "            intermediate_data_folder=aggregated_data_intermediate_outpath,\n",
    "            variables=['volume', 'area', 'thinning_rate', 'runoff'],\n",
    "            risk_variables=['volume', 'area'],\n",
    "            risk_thresholds=np.append(np.arange(10, 91, 10), [99]),  # in % melted of 2020, 10% means 10% of 2020 melted\n",
    "            time_steps=np.arange(2015, 2101, 5),\n",
    "            reset_files=False\n",
    "        )"
   ]
  },
  {
   "cell_type": "markdown",
   "id": "551e20f7-1851-46db-a5e7-d25a926368fb",
   "metadata": {},
   "source": [
    "## check which experiments failed for rerunning"
   ]
  },
  {
   "cell_type": "code",
   "execution_count": 4,
   "id": "6097775a-526f-40a2-9a4c-157568ecd673",
   "metadata": {},
   "outputs": [
    {
     "name": "stdout",
     "output_type": "stream",
     "text": [
      "Files without 'SLURM DONE':\n",
      "sbatch --array=43,52,42,93,37,108,19,102,113,58,11,40 run_slurm_aggregation_workflow.sh\n"
     ]
    }
   ],
   "source": [
    "if is_notebook:\n",
    "    check_slurm_done(476345)"
   ]
  },
  {
   "cell_type": "code",
   "execution_count": 5,
   "id": "0a5e0bf7-9412-41aa-ba88-ff2e5e5bc77d",
   "metadata": {},
   "outputs": [
    {
     "name": "stdout",
     "output_type": "stream",
     "text": [
      "Files without 'SLURM DONE':\n",
      "sbatch --array=11 run_slurm_aggregation_workflow.sh\n"
     ]
    }
   ],
   "source": [
    "if is_notebook:\n",
    "    check_slurm_done(476564)"
   ]
  },
  {
   "cell_type": "code",
   "execution_count": 6,
   "id": "d826ac2c-696a-42d1-af4a-9d158d7e58f0",
   "metadata": {},
   "outputs": [
    {
     "name": "stdout",
     "output_type": "stream",
     "text": [
      "All files contain 'SLURM DONE'.\n"
     ]
    }
   ],
   "source": [
    "if is_notebook:\n",
    "    check_slurm_done(476578)"
   ]
  },
  {
   "cell_type": "code",
   "execution_count": 14,
   "id": "193b989b-25c7-46b9-b6e1-cecb4b814dd1",
   "metadata": {},
   "outputs": [
    {
     "name": "stdout",
     "output_type": "stream",
     "text": [
      "All files contain 'SLURM DONE'.\n"
     ]
    }
   ],
   "source": [
    "if is_notebook:\n",
    "    check_slurm_done(436405)"
   ]
  },
  {
   "cell_type": "code",
   "execution_count": null,
   "id": "685478fb-b61b-42d7-a6a1-411590f9a32e",
   "metadata": {},
   "outputs": [],
   "source": []
  }
 ],
 "metadata": {
  "jupytext": {
   "formats": "ipynb,py:light"
  },
  "kernelspec": {
   "display_name": "Python [conda env:oggm_env]",
   "language": "python",
   "name": "conda-env-oggm_env-py"
  },
  "language_info": {
   "codemirror_mode": {
    "name": "ipython",
    "version": 3
   },
   "file_extension": ".py",
   "mimetype": "text/x-python",
   "name": "python",
   "nbconvert_exporter": "python",
   "pygments_lexer": "ipython3",
   "version": "3.11.4"
  }
 },
 "nbformat": 4,
 "nbformat_minor": 5
}
