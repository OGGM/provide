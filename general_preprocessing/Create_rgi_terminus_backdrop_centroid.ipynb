{
 "cells": [
  {
   "cell_type": "markdown",
   "id": "ab3277cd-bed6-4118-86d3-42e1d009ab78",
   "metadata": {},
   "source": [
    "Create a conversion list for all rgi_ids to their terminus position, if terminus not available fallback to centroid coordinates."
   ]
  },
  {
   "cell_type": "code",
   "execution_count": 19,
   "id": "d4b686dc-a3d2-4005-913f-033eb890c336",
   "metadata": {},
   "outputs": [],
   "source": [
    "from oggm import utils\n",
    "import pandas as pd\n",
    "import numpy as np\n",
    "import os"
   ]
  },
  {
   "cell_type": "markdown",
   "id": "7fd1d02a-30f3-4d5d-a793-b778bb2b9c0d",
   "metadata": {},
   "source": [
    "# open centroid data as template structure"
   ]
  },
  {
   "cell_type": "code",
   "execution_count": 49,
   "id": "ea81ef78-e0a7-4618-a868-81ae2fcd69b5",
   "metadata": {},
   "outputs": [],
   "source": [
    "# open list of rgi_ids\n",
    "frgi = utils.file_downloader('https://cluster.klima.uni-bremen.de/~oggm/rgi/rgi62_stats.h5')\n",
    "df_rgi = pd.read_hdf(frgi, index_col=0)\n",
    "\n",
    "# Template for final structure, only keep centroid coordinates\n",
    "df_rgi = df_rgi[['CenLon', 'CenLat']]\n",
    "df_rgi = df_rgi.rename(columns={'CenLon': 'centroid_lon', 'CenLat': 'centroid_lat'})"
   ]
  },
  {
   "cell_type": "markdown",
   "id": "d5742ec0-584b-4296-8b0e-be7518e52ddc",
   "metadata": {},
   "source": [
    "# Add terminus coordinates"
   ]
  },
  {
   "cell_type": "code",
   "execution_count": 67,
   "id": "e8ca20da-2a12-4642-894c-e90f68ee9f5b",
   "metadata": {},
   "outputs": [
    {
     "name": "stdout",
     "output_type": "stream",
     "text": [
      "1666 of 216502 glaciers have no terminus position (0.77 %)\n"
     ]
    }
   ],
   "source": [
    "df_rgi['terminus_lon'] = np.nan\n",
    "df_rgi['terminus_lat'] = np.nan\n",
    "\n",
    "terminus_fp = ('/home/www/oggm/gdirs/oggm_v1.6/L1-L2_files/elev_bands/RGI62/b_160/L2/summary/')\n",
    "\n",
    "# add terminus region per region\n",
    "for rgi_region in np.arange(1, 20):\n",
    "    terminus_filename = f'glacier_statistics_{rgi_region:02d}.csv'\n",
    "    df_terminus = pd.read_csv(os.path.join(terminus_fp, terminus_filename), index_col=0, low_memory=False)\n",
    "    df_terminus = df_terminus[['terminus_lon', 'terminus_lat']]\n",
    "    df_rgi.update(df_terminus)\n",
    "\n",
    "glaciers_with_no_terminus = df_rgi['terminus_lon'].isna().sum()\n",
    "print(f'{glaciers_with_no_terminus} of {len(df_rgi)} glaciers have no terminus position '\n",
    "      f'({100 / len(df_rgi) * glaciers_with_no_terminus:.2f} %)')"
   ]
  },
  {
   "cell_type": "markdown",
   "id": "66cf7c53-c01b-4723-b901-3c1088a90341",
   "metadata": {},
   "source": [
    "# Define which coordinates to use for each glacier"
   ]
  },
  {
   "cell_type": "code",
   "execution_count": 76,
   "id": "e6ac72fc-b503-4c12-ab88-3cce67bb9ccb",
   "metadata": {},
   "outputs": [],
   "source": [
    "# this coordinates are the same as terminus, if terminus does not exist centroid is used\n",
    "df_rgi['position_lon'] = np.where(df_rgi['terminus_lon'].isna(),\n",
    "                                  df_rgi['centroid_lon'],\n",
    "                                  df_rgi['terminus_lon'])\n",
    "assert df_rgi['position_lon'].isna().sum() == 0\n",
    "\n",
    "df_rgi['position_lat'] = np.where(df_rgi['terminus_lat'].isna(),\n",
    "                                  df_rgi['centroid_lat'],\n",
    "                                  df_rgi['terminus_lat'])\n",
    "assert df_rgi['position_lat'].isna().sum() == 0"
   ]
  },
  {
   "cell_type": "markdown",
   "id": "92679533-8dbc-47ff-a584-3d5b8a8eb7dd",
   "metadata": {},
   "source": [
    "# Save result"
   ]
  },
  {
   "cell_type": "code",
   "execution_count": 77,
   "id": "6b87808a-35de-457c-a164-f4cb155584d7",
   "metadata": {},
   "outputs": [],
   "source": [
    "base_path = os.getcwd()\n",
    "# go up until we are in the project base directory\n",
    "path_to_add = base_path\n",
    "while path_to_add.split('/')[-1] != 'provide':\n",
    "    path_to_add = os.path.normpath(os.path.join(path_to_add, '..'))\n",
    "\n",
    "fp_output = os.path.join(path_to_add, 'general_data_for_aggregation')\n",
    "filename_output = 'rgi_position_terminus_backdrop_centroid.csv'\n",
    "df_rgi.to_csv(os.path.join(fp_output, filename_output))"
   ]
  }
 ],
 "metadata": {
  "kernelspec": {
   "display_name": "Python [conda env:oggm_env]",
   "language": "python",
   "name": "conda-env-oggm_env-py"
  },
  "language_info": {
   "codemirror_mode": {
    "name": "ipython",
    "version": 3
   },
   "file_extension": ".py",
   "mimetype": "text/x-python",
   "name": "python",
   "nbconvert_exporter": "python",
   "pygments_lexer": "ipython3",
   "version": "3.11.4"
  }
 },
 "nbformat": 4,
 "nbformat_minor": 5
}
