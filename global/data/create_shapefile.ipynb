{
 "cells": [
  {
   "cell_type": "code",
   "execution_count": 1,
   "id": "8b16edb9-fd96-4554-b8f2-a4bda26717c3",
   "metadata": {},
   "outputs": [],
   "source": [
    "import geopandas as gpd\n",
    "from shapely.geometry import Polygon\n",
    "\n",
    "# Define global bounding box coordinates\n",
    "global_polygon = Polygon([(-180, -90), (-180, 90), (180, 90), (180, -90), (-180, -90)])\n",
    "\n",
    "# Create a GeoDataFrame\n",
    "gdf = gpd.GeoDataFrame([{'geometry': global_polygon}], crs=\"EPSG:4326\")\n",
    "\n",
    "# Save as a shapefile\n",
    "gdf.to_file(\"global_shapefile.shp\")"
   ]
  },
  {
   "cell_type": "code",
   "execution_count": null,
   "id": "cc6b1929-85bb-4065-bca6-7c01dff8f234",
   "metadata": {},
   "outputs": [],
   "source": []
  }
 ],
 "metadata": {
  "kernelspec": {
   "display_name": "Python [conda env:oggm_env]",
   "language": "python",
   "name": "conda-env-oggm_env-py"
  },
  "language_info": {
   "codemirror_mode": {
    "name": "ipython",
    "version": 3
   },
   "file_extension": ".py",
   "mimetype": "text/x-python",
   "name": "python",
   "nbconvert_exporter": "python",
   "pygments_lexer": "ipython3",
   "version": "3.11.4"
  }
 },
 "nbformat": 4,
 "nbformat_minor": 5
}
