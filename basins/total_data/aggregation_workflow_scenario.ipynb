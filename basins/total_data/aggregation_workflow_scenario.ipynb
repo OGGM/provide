{
 "cells": [
  {
   "cell_type": "markdown",
   "id": "9354960e-57ef-4946-a6e8-6738d843a8d1",
   "metadata": {},
   "source": [
    "# Imports"
   ]
  },
  {
   "cell_type": "code",
   "execution_count": 2,
   "id": "71900536-6174-4d2a-81cb-b99de42a45f0",
   "metadata": {},
   "outputs": [],
   "source": [
    "import os\n",
    "import sys\n",
    "import json\n",
    "import xarray as xr\n",
    "import numpy as np\n",
    "import geopandas as gpd\n",
    "import matplotlib.pyplot as plt"
   ]
  },
  {
   "cell_type": "code",
   "execution_count": 3,
   "id": "8a3bc28b-3750-4c56-8f84-2687dbb7d95c",
   "metadata": {},
   "outputs": [],
   "source": [
    "# go up until we are in the project base directory\n",
    "base_dir = os.getcwd()\n",
    "while base_dir.split('/')[-1] != 'provide':\n",
    "    base_dir = os.path.normpath(os.path.join(base_dir, '..'))\n",
    "\n",
    "# add paths for tools and data\n",
    "things_to_add = ['general_tools', 'aggregation_tools', 'general_data_for_aggregation']\n",
    "for thing in things_to_add:\n",
    "    sys.path.append(os.path.join(base_dir, thing))\n",
    "\n",
    "# import stuff we need\n",
    "from general_tools import check_if_notebook, mkdir\n",
    "from oggm_result_filepath_and_realisations import (gcms_mesmer, quantiles_mesmer,\n",
    "    scenarios_mesmer, oggm_result_dir, provide_regions, raw_oggm_output_file)\n",
    "from aggregation_preprocessing import open_grid_from_dict\n",
    "from actual_aggregation import open_files_and_aggregate_on_map, aggregating_scenario, check_slurm_done"
   ]
  },
  {
   "cell_type": "code",
   "execution_count": 4,
   "id": "dc02dd72-15e8-4b98-862c-f505cea2bba0",
   "metadata": {},
   "outputs": [],
   "source": [
    "# Use this to conditionally execute tests/debugging\n",
    "if check_if_notebook():\n",
    "    is_notebook = True\n",
    "else:\n",
    "    is_notebook = False"
   ]
  },
  {
   "cell_type": "markdown",
   "id": "05510532-e4f8-4d01-adec-4c26cafb5e12",
   "metadata": {},
   "source": [
    "# Define directories"
   ]
  },
  {
   "cell_type": "code",
   "execution_count": 4,
   "id": "b3485fe2-7997-408f-a78f-46f9966efe23",
   "metadata": {},
   "outputs": [],
   "source": [
    "resolution_dir = 'total_data'"
   ]
  },
  {
   "cell_type": "code",
   "execution_count": 5,
   "id": "79e55adf-c4db-402f-bb8a-d0f734f8f9c2",
   "metadata": {},
   "outputs": [],
   "source": [
    "preprocess_region_dict_outpath = os.path.join(base_dir, 'basins', resolution_dir)\n",
    "mkdir(preprocess_region_dict_outpath);"
   ]
  },
  {
   "cell_type": "markdown",
   "id": "129ce9d5-24ed-4c0f-b50b-f1b968c760c7",
   "metadata": {},
   "source": [
    "# Open data"
   ]
  },
  {
   "cell_type": "code",
   "execution_count": 6,
   "id": "ac9386ee-37f2-42b9-8551-5582fcc57e12",
   "metadata": {},
   "outputs": [],
   "source": [
    "with open(os.path.join(preprocess_region_dict_outpath, \"preprocessed_region_grids.json\"), 'r') as f:\n",
    "    region_structure_dict = json.load(f)"
   ]
  },
  {
   "cell_type": "markdown",
   "id": "c4265641-76e8-4e41-a470-3f07e4418b1e",
   "metadata": {},
   "source": [
    "# Code for running on cluster"
   ]
  },
  {
   "cell_type": "markdown",
   "id": "2341ce12-b1da-4d1a-8455-35284e5f4282",
   "metadata": {},
   "source": [
    "## define experiments for multiprocessing"
   ]
  },
  {
   "cell_type": "code",
   "execution_count": 7,
   "id": "1d004caf-7615-4181-8235-ec38fe37d268",
   "metadata": {
    "scrolled": true
   },
   "outputs": [
    {
     "name": "stdout",
     "output_type": "stream",
     "text": [
      "{'1': ('indigirka', 'CurPol'), '2': ('indigirka', 'GS'), '3': ('indigirka', 'LD'), '4': ('indigirka', 'ModAct'), '5': ('indigirka', 'Ref'), '6': ('indigirka', 'Ren'), '7': ('indigirka', 'Neg'), '8': ('indigirka', 'SP'), '9': ('indigirka', 'ssp119'), '10': ('indigirka', 'ssp534-over'), '11': ('ob', 'CurPol'), '12': ('ob', 'GS'), '13': ('ob', 'LD'), '14': ('ob', 'ModAct'), '15': ('ob', 'Ref'), '16': ('ob', 'Ren'), '17': ('ob', 'Neg'), '18': ('ob', 'SP'), '19': ('ob', 'ssp119'), '20': ('ob', 'ssp534-over'), '21': ('brahmaputra', 'CurPol'), '22': ('brahmaputra', 'GS'), '23': ('brahmaputra', 'LD'), '24': ('brahmaputra', 'ModAct'), '25': ('brahmaputra', 'Ref'), '26': ('brahmaputra', 'Ren'), '27': ('brahmaputra', 'Neg'), '28': ('brahmaputra', 'SP'), '29': ('brahmaputra', 'ssp119'), '30': ('brahmaputra', 'ssp534-over'), '31': ('ganges', 'CurPol'), '32': ('ganges', 'GS'), '33': ('ganges', 'LD'), '34': ('ganges', 'ModAct'), '35': ('ganges', 'Ref'), '36': ('ganges', 'Ren'), '37': ('ganges', 'Neg'), '38': ('ganges', 'SP'), '39': ('ganges', 'ssp119'), '40': ('ganges', 'ssp534-over'), '41': ('indus', 'CurPol'), '42': ('indus', 'GS'), '43': ('indus', 'LD'), '44': ('indus', 'ModAct'), '45': ('indus', 'Ref'), '46': ('indus', 'Ren'), '47': ('indus', 'Neg'), '48': ('indus', 'SP'), '49': ('indus', 'ssp119'), '50': ('indus', 'ssp534-over'), '51': ('irrawaddy', 'CurPol'), '52': ('irrawaddy', 'GS'), '53': ('irrawaddy', 'LD'), '54': ('irrawaddy', 'ModAct'), '55': ('irrawaddy', 'Ref'), '56': ('irrawaddy', 'Ren'), '57': ('irrawaddy', 'Neg'), '58': ('irrawaddy', 'SP'), '59': ('irrawaddy', 'ssp119'), '60': ('irrawaddy', 'ssp534-over'), '61': ('salween', 'CurPol'), '62': ('salween', 'GS'), '63': ('salween', 'LD'), '64': ('salween', 'ModAct'), '65': ('salween', 'Ref'), '66': ('salween', 'Ren'), '67': ('salween', 'Neg'), '68': ('salween', 'SP'), '69': ('salween', 'ssp119'), '70': ('salween', 'ssp534-over'), '71': ('kamchatka', 'CurPol'), '72': ('kamchatka', 'GS'), '73': ('kamchatka', 'LD'), '74': ('kamchatka', 'ModAct'), '75': ('kamchatka', 'Ref'), '76': ('kamchatka', 'Ren'), '77': ('kamchatka', 'Neg'), '78': ('kamchatka', 'SP'), '79': ('kamchatka', 'ssp119'), '80': ('kamchatka', 'ssp534-over'), '81': ('mekong', 'CurPol'), '82': ('mekong', 'GS'), '83': ('mekong', 'LD'), '84': ('mekong', 'ModAct'), '85': ('mekong', 'Ref'), '86': ('mekong', 'Ren'), '87': ('mekong', 'Neg'), '88': ('mekong', 'SP'), '89': ('mekong', 'ssp119'), '90': ('mekong', 'ssp534-over'), '91': ('yangtze', 'CurPol'), '92': ('yangtze', 'GS'), '93': ('yangtze', 'LD'), '94': ('yangtze', 'ModAct'), '95': ('yangtze', 'Ref'), '96': ('yangtze', 'Ren'), '97': ('yangtze', 'Neg'), '98': ('yangtze', 'SP'), '99': ('yangtze', 'ssp119'), '100': ('yangtze', 'ssp534-over'), '101': ('yellow_river', 'CurPol'), '102': ('yellow_river', 'GS'), '103': ('yellow_river', 'LD'), '104': ('yellow_river', 'ModAct'), '105': ('yellow_river', 'Ref'), '106': ('yellow_river', 'Ren'), '107': ('yellow_river', 'Neg'), '108': ('yellow_river', 'SP'), '109': ('yellow_river', 'ssp119'), '110': ('yellow_river', 'ssp534-over'), '111': ('aral_sea', 'CurPol'), '112': ('aral_sea', 'GS'), '113': ('aral_sea', 'LD'), '114': ('aral_sea', 'ModAct'), '115': ('aral_sea', 'Ref'), '116': ('aral_sea', 'Ren'), '117': ('aral_sea', 'Neg'), '118': ('aral_sea', 'SP'), '119': ('aral_sea', 'ssp119'), '120': ('aral_sea', 'ssp534-over'), '121': ('chuy', 'CurPol'), '122': ('chuy', 'GS'), '123': ('chuy', 'LD'), '124': ('chuy', 'ModAct'), '125': ('chuy', 'Ref'), '126': ('chuy', 'Ren'), '127': ('chuy', 'Neg'), '128': ('chuy', 'SP'), '129': ('chuy', 'ssp119'), '130': ('chuy', 'ssp534-over'), '131': ('har_us_nuur', 'CurPol'), '132': ('har_us_nuur', 'GS'), '133': ('har_us_nuur', 'LD'), '134': ('har_us_nuur', 'ModAct'), '135': ('har_us_nuur', 'Ref'), '136': ('har_us_nuur', 'Ren'), '137': ('har_us_nuur', 'Neg'), '138': ('har_us_nuur', 'SP'), '139': ('har_us_nuur', 'ssp119'), '140': ('har_us_nuur', 'ssp534-over'), '141': ('lake_balkhash', 'CurPol'), '142': ('lake_balkhash', 'GS'), '143': ('lake_balkhash', 'LD'), '144': ('lake_balkhash', 'ModAct'), '145': ('lake_balkhash', 'Ref'), '146': ('lake_balkhash', 'Ren'), '147': ('lake_balkhash', 'Neg'), '148': ('lake_balkhash', 'SP'), '149': ('lake_balkhash', 'ssp119'), '150': ('lake_balkhash', 'ssp534-over'), '151': ('talas', 'CurPol'), '152': ('talas', 'GS'), '153': ('talas', 'LD'), '154': ('talas', 'ModAct'), '155': ('talas', 'Ref'), '156': ('talas', 'Ren'), '157': ('talas', 'Neg'), '158': ('talas', 'SP'), '159': ('talas', 'ssp119'), '160': ('talas', 'ssp534-over'), '161': ('tarim_he', 'CurPol'), '162': ('tarim_he', 'GS'), '163': ('tarim_he', 'LD'), '164': ('tarim_he', 'ModAct'), '165': ('tarim_he', 'Ref'), '166': ('tarim_he', 'Ren'), '167': ('tarim_he', 'Neg'), '168': ('tarim_he', 'SP'), '169': ('tarim_he', 'ssp119'), '170': ('tarim_he', 'ssp534-over'), '171': ('uvs_nuur', 'CurPol'), '172': ('uvs_nuur', 'GS'), '173': ('uvs_nuur', 'LD'), '174': ('uvs_nuur', 'ModAct'), '175': ('uvs_nuur', 'Ref'), '176': ('uvs_nuur', 'Ren'), '177': ('uvs_nuur', 'Neg'), '178': ('uvs_nuur', 'SP'), '179': ('uvs_nuur', 'ssp119'), '180': ('uvs_nuur', 'ssp534-over'), '181': ('ysyk-kol', 'CurPol'), '182': ('ysyk-kol', 'GS'), '183': ('ysyk-kol', 'LD'), '184': ('ysyk-kol', 'ModAct'), '185': ('ysyk-kol', 'Ref'), '186': ('ysyk-kol', 'Ren'), '187': ('ysyk-kol', 'Neg'), '188': ('ysyk-kol', 'SP'), '189': ('ysyk-kol', 'ssp119'), '190': ('ysyk-kol', 'ssp534-over'), '191': ('amazon', 'CurPol'), '192': ('amazon', 'GS'), '193': ('amazon', 'LD'), '194': ('amazon', 'ModAct'), '195': ('amazon', 'Ref'), '196': ('amazon', 'Ren'), '197': ('amazon', 'Neg'), '198': ('amazon', 'SP'), '199': ('amazon', 'ssp119'), '200': ('amazon', 'ssp534-over'), '201': ('chico', 'CurPol'), '202': ('chico', 'GS'), '203': ('chico', 'LD'), '204': ('chico', 'ModAct'), '205': ('chico', 'Ref'), '206': ('chico', 'Ren'), '207': ('chico', 'Neg'), '208': ('chico', 'SP'), '209': ('chico', 'ssp119'), '210': ('chico', 'ssp534-over'), '211': ('colorado', 'CurPol'), '212': ('colorado', 'GS'), '213': ('colorado', 'LD'), '214': ('colorado', 'ModAct'), '215': ('colorado', 'Ref'), '216': ('colorado', 'Ren'), '217': ('colorado', 'Neg'), '218': ('colorado', 'SP'), '219': ('colorado', 'ssp119'), '220': ('colorado', 'ssp534-over'), '221': ('magdalena', 'CurPol'), '222': ('magdalena', 'GS'), '223': ('magdalena', 'LD'), '224': ('magdalena', 'ModAct'), '225': ('magdalena', 'Ref'), '226': ('magdalena', 'Ren'), '227': ('magdalena', 'Neg'), '228': ('magdalena', 'SP'), '229': ('magdalena', 'ssp119'), '230': ('magdalena', 'ssp534-over'), '231': ('negro', 'CurPol'), '232': ('negro', 'GS'), '233': ('negro', 'LD'), '234': ('negro', 'ModAct'), '235': ('negro', 'Ref'), '236': ('negro', 'Ren'), '237': ('negro', 'Neg'), '238': ('negro', 'SP'), '239': ('negro', 'ssp119'), '240': ('negro', 'ssp534-over'), '241': ('santa_cruz', 'CurPol'), '242': ('santa_cruz', 'GS'), '243': ('santa_cruz', 'LD'), '244': ('santa_cruz', 'ModAct'), '245': ('santa_cruz', 'Ref'), '246': ('santa_cruz', 'Ren'), '247': ('santa_cruz', 'Neg'), '248': ('santa_cruz', 'SP'), '249': ('santa_cruz', 'ssp119'), '250': ('santa_cruz', 'ssp534-over'), '251': ('aisen', 'CurPol'), '252': ('aisen', 'GS'), '253': ('aisen', 'LD'), '254': ('aisen', 'ModAct'), '255': ('aisen', 'Ref'), '256': ('aisen', 'Ren'), '257': ('aisen', 'Neg'), '258': ('aisen', 'SP'), '259': ('aisen', 'ssp119'), '260': ('aisen', 'ssp534-over'), '261': ('azopardo', 'CurPol'), '262': ('azopardo', 'GS'), '263': ('azopardo', 'LD'), '264': ('azopardo', 'ModAct'), '265': ('azopardo', 'Ref'), '266': ('azopardo', 'Ren'), '267': ('azopardo', 'Neg'), '268': ('azopardo', 'SP'), '269': ('azopardo', 'ssp119'), '270': ('azopardo', 'ssp534-over'), '271': ('baker', 'CurPol'), '272': ('baker', 'GS'), '273': ('baker', 'LD'), '274': ('baker', 'ModAct'), '275': ('baker', 'Ref'), '276': ('baker', 'Ren'), '277': ('baker', 'Neg'), '278': ('baker', 'SP'), '279': ('baker', 'ssp119'), '280': ('baker', 'ssp534-over'), '281': ('biobio', 'CurPol'), '282': ('biobio', 'GS'), '283': ('biobio', 'LD'), '284': ('biobio', 'ModAct'), '285': ('biobio', 'Ref'), '286': ('biobio', 'Ren'), '287': ('biobio', 'Neg'), '288': ('biobio', 'SP'), '289': ('biobio', 'ssp119'), '290': ('biobio', 'ssp534-over'), '291': ('cisnes', 'CurPol'), '292': ('cisnes', 'GS'), '293': ('cisnes', 'LD'), '294': ('cisnes', 'ModAct'), '295': ('cisnes', 'Ref'), '296': ('cisnes', 'Ren'), '297': ('cisnes', 'Neg'), '298': ('cisnes', 'SP'), '299': ('cisnes', 'ssp119'), '300': ('cisnes', 'ssp534-over'), '301': ('copiapo', 'CurPol'), '302': ('copiapo', 'GS'), '303': ('copiapo', 'LD'), '304': ('copiapo', 'ModAct'), '305': ('copiapo', 'Ref'), '306': ('copiapo', 'Ren'), '307': ('copiapo', 'Neg'), '308': ('copiapo', 'SP'), '309': ('copiapo', 'ssp119'), '310': ('copiapo', 'ssp534-over'), '311': ('huasco', 'CurPol'), '312': ('huasco', 'GS'), '313': ('huasco', 'LD'), '314': ('huasco', 'ModAct'), '315': ('huasco', 'Ref'), '316': ('huasco', 'Ren'), '317': ('huasco', 'Neg'), '318': ('huasco', 'SP'), '319': ('huasco', 'ssp119'), '320': ('huasco', 'ssp534-over'), '321': ('majes', 'CurPol'), '322': ('majes', 'GS'), '323': ('majes', 'LD'), '324': ('majes', 'ModAct'), '325': ('majes', 'Ref'), '326': ('majes', 'Ren'), '327': ('majes', 'Neg'), '328': ('majes', 'SP'), '329': ('majes', 'ssp119'), '330': ('majes', 'ssp534-over'), '331': ('ocona', 'CurPol'), '332': ('ocona', 'GS'), '333': ('ocona', 'LD'), '334': ('ocona', 'ModAct'), '335': ('ocona', 'Ref'), '336': ('ocona', 'Ren'), '337': ('ocona', 'Neg'), '338': ('ocona', 'SP'), '339': ('ocona', 'ssp119'), '340': ('ocona', 'ssp534-over'), '341': ('palena', 'CurPol'), '342': ('palena', 'GS'), '343': ('palena', 'LD'), '344': ('palena', 'ModAct'), '345': ('palena', 'Ref'), '346': ('palena', 'Ren'), '347': ('palena', 'Neg'), '348': ('palena', 'SP'), '349': ('palena', 'ssp119'), '350': ('palena', 'ssp534-over'), '351': ('pascua', 'CurPol'), '352': ('pascua', 'GS'), '353': ('pascua', 'LD'), '354': ('pascua', 'ModAct'), '355': ('pascua', 'Ref'), '356': ('pascua', 'Ren'), '357': ('pascua', 'Neg'), '358': ('pascua', 'SP'), '359': ('pascua', 'ssp119'), '360': ('pascua', 'ssp534-over'), '361': ('puelo', 'CurPol'), '362': ('puelo', 'GS'), '363': ('puelo', 'LD'), '364': ('puelo', 'ModAct'), '365': ('puelo', 'Ref'), '366': ('puelo', 'Ren'), '367': ('puelo', 'Neg'), '368': ('puelo', 'SP'), '369': ('puelo', 'ssp119'), '370': ('puelo', 'ssp534-over'), '371': ('rapel', 'CurPol'), '372': ('rapel', 'GS'), '373': ('rapel', 'LD'), '374': ('rapel', 'ModAct'), '375': ('rapel', 'Ref'), '376': ('rapel', 'Ren'), '377': ('rapel', 'Neg'), '378': ('rapel', 'SP'), '379': ('rapel', 'ssp119'), '380': ('rapel', 'ssp534-over'), '381': ('santa', 'CurPol'), '382': ('santa', 'GS'), '383': ('santa', 'LD'), '384': ('santa', 'ModAct'), '385': ('santa', 'Ref'), '386': ('santa', 'Ren'), '387': ('santa', 'Neg'), '388': ('santa', 'SP'), '389': ('santa', 'ssp119'), '390': ('santa', 'ssp534-over'), '391': ('serrano', 'CurPol'), '392': ('serrano', 'GS'), '393': ('serrano', 'LD'), '394': ('serrano', 'ModAct'), '395': ('serrano', 'Ref'), '396': ('serrano', 'Ren'), '397': ('serrano', 'Neg'), '398': ('serrano', 'SP'), '399': ('serrano', 'ssp119'), '400': ('serrano', 'ssp534-over'), '401': ('valdivia', 'CurPol'), '402': ('valdivia', 'GS'), '403': ('valdivia', 'LD'), '404': ('valdivia', 'ModAct'), '405': ('valdivia', 'Ref'), '406': ('valdivia', 'Ren'), '407': ('valdivia', 'Neg'), '408': ('valdivia', 'SP'), '409': ('valdivia', 'ssp119'), '410': ('valdivia', 'ssp534-over'), '411': ('yelcho', 'CurPol'), '412': ('yelcho', 'GS'), '413': ('yelcho', 'LD'), '414': ('yelcho', 'ModAct'), '415': ('yelcho', 'Ref'), '416': ('yelcho', 'Ren'), '417': ('yelcho', 'Neg'), '418': ('yelcho', 'SP'), '419': ('yelcho', 'ssp119'), '420': ('yelcho', 'ssp534-over'), '421': ('titicaca', 'CurPol'), '422': ('titicaca', 'GS'), '423': ('titicaca', 'LD'), '424': ('titicaca', 'ModAct'), '425': ('titicaca', 'Ref'), '426': ('titicaca', 'Ren'), '427': ('titicaca', 'Neg'), '428': ('titicaca', 'SP'), '429': ('titicaca', 'ssp119'), '430': ('titicaca', 'ssp534-over'), '431': ('colville', 'CurPol'), '432': ('colville', 'GS'), '433': ('colville', 'LD'), '434': ('colville', 'ModAct'), '435': ('colville', 'Ref'), '436': ('colville', 'Ren'), '437': ('colville', 'Neg'), '438': ('colville', 'SP'), '439': ('colville', 'ssp119'), '440': ('colville', 'ssp534-over'), '441': ('mackenzie', 'CurPol'), '442': ('mackenzie', 'GS'), '443': ('mackenzie', 'LD'), '444': ('mackenzie', 'ModAct'), '445': ('mackenzie', 'Ref'), '446': ('mackenzie', 'Ren'), '447': ('mackenzie', 'Neg'), '448': ('mackenzie', 'SP'), '449': ('mackenzie', 'ssp119'), '450': ('mackenzie', 'ssp534-over'), '451': ('nelson', 'CurPol'), '452': ('nelson', 'GS'), '453': ('nelson', 'LD'), '454': ('nelson', 'ModAct'), '455': ('nelson', 'Ref'), '456': ('nelson', 'Ren'), '457': ('nelson', 'Neg'), '458': ('nelson', 'SP'), '459': ('nelson', 'ssp119'), '460': ('nelson', 'ssp534-over'), '461': ('alsek', 'CurPol'), '462': ('alsek', 'GS'), '463': ('alsek', 'LD'), '464': ('alsek', 'ModAct'), '465': ('alsek', 'Ref'), '466': ('alsek', 'Ren'), '467': ('alsek', 'Neg'), '468': ('alsek', 'SP'), '469': ('alsek', 'ssp119'), '470': ('alsek', 'ssp534-over'), '471': ('columbia', 'CurPol'), '472': ('columbia', 'GS'), '473': ('columbia', 'LD'), '474': ('columbia', 'ModAct'), '475': ('columbia', 'Ref'), '476': ('columbia', 'Ren'), '477': ('columbia', 'Neg'), '478': ('columbia', 'SP'), '479': ('columbia', 'ssp119'), '480': ('columbia', 'ssp534-over'), '481': ('copper', 'CurPol'), '482': ('copper', 'GS'), '483': ('copper', 'LD'), '484': ('copper', 'ModAct'), '485': ('copper', 'Ref'), '486': ('copper', 'Ren'), '487': ('copper', 'Neg'), '488': ('copper', 'SP'), '489': ('copper', 'ssp119'), '490': ('copper', 'ssp534-over'), '491': ('fraser', 'CurPol'), '492': ('fraser', 'GS'), '493': ('fraser', 'LD'), '494': ('fraser', 'ModAct'), '495': ('fraser', 'Ref'), '496': ('fraser', 'Ren'), '497': ('fraser', 'Neg'), '498': ('fraser', 'SP'), '499': ('fraser', 'ssp119'), '500': ('fraser', 'ssp534-over'), '501': ('kuskokwim', 'CurPol'), '502': ('kuskokwim', 'GS'), '503': ('kuskokwim', 'LD'), '504': ('kuskokwim', 'ModAct'), '505': ('kuskokwim', 'Ref'), '506': ('kuskokwim', 'Ren'), '507': ('kuskokwim', 'Neg'), '508': ('kuskokwim', 'SP'), '509': ('kuskokwim', 'ssp119'), '510': ('kuskokwim', 'ssp534-over'), '511': ('nass', 'CurPol'), '512': ('nass', 'GS'), '513': ('nass', 'LD'), '514': ('nass', 'ModAct'), '515': ('nass', 'Ref'), '516': ('nass', 'Ren'), '517': ('nass', 'Neg'), '518': ('nass', 'SP'), '519': ('nass', 'ssp119'), '520': ('nass', 'ssp534-over'), '521': ('nushagak', 'CurPol'), '522': ('nushagak', 'GS'), '523': ('nushagak', 'LD'), '524': ('nushagak', 'ModAct'), '525': ('nushagak', 'Ref'), '526': ('nushagak', 'Ren'), '527': ('nushagak', 'Neg'), '528': ('nushagak', 'SP'), '529': ('nushagak', 'ssp119'), '530': ('nushagak', 'ssp534-over'), '531': ('skagit', 'CurPol'), '532': ('skagit', 'GS'), '533': ('skagit', 'LD'), '534': ('skagit', 'ModAct'), '535': ('skagit', 'Ref'), '536': ('skagit', 'Ren'), '537': ('skagit', 'Neg'), '538': ('skagit', 'SP'), '539': ('skagit', 'ssp119'), '540': ('skagit', 'ssp534-over'), '541': ('skeena', 'CurPol'), '542': ('skeena', 'GS'), '543': ('skeena', 'LD'), '544': ('skeena', 'ModAct'), '545': ('skeena', 'Ref'), '546': ('skeena', 'Ren'), '547': ('skeena', 'Neg'), '548': ('skeena', 'SP'), '549': ('skeena', 'ssp119'), '550': ('skeena', 'ssp534-over'), '551': ('stikine', 'CurPol'), '552': ('stikine', 'GS'), '553': ('stikine', 'LD'), '554': ('stikine', 'ModAct'), '555': ('stikine', 'Ref'), '556': ('stikine', 'Ren'), '557': ('stikine', 'Neg'), '558': ('stikine', 'SP'), '559': ('stikine', 'ssp119'), '560': ('stikine', 'ssp534-over'), '561': ('susitna', 'CurPol'), '562': ('susitna', 'GS'), '563': ('susitna', 'LD'), '564': ('susitna', 'ModAct'), '565': ('susitna', 'Ref'), '566': ('susitna', 'Ren'), '567': ('susitna', 'Neg'), '568': ('susitna', 'SP'), '569': ('susitna', 'ssp119'), '570': ('susitna', 'ssp534-over'), '571': ('taku', 'CurPol'), '572': ('taku', 'GS'), '573': ('taku', 'LD'), '574': ('taku', 'ModAct'), '575': ('taku', 'Ref'), '576': ('taku', 'Ren'), '577': ('taku', 'Neg'), '578': ('taku', 'SP'), '579': ('taku', 'ssp119'), '580': ('taku', 'ssp534-over'), '581': ('yukon', 'CurPol'), '582': ('yukon', 'GS'), '583': ('yukon', 'LD'), '584': ('yukon', 'ModAct'), '585': ('yukon', 'Ref'), '586': ('yukon', 'Ren'), '587': ('yukon', 'Neg'), '588': ('yukon', 'SP'), '589': ('yukon', 'ssp119'), '590': ('yukon', 'ssp534-over'), '591': ('clutha', 'CurPol'), '592': ('clutha', 'GS'), '593': ('clutha', 'LD'), '594': ('clutha', 'ModAct'), '595': ('clutha', 'Ref'), '596': ('clutha', 'Ren'), '597': ('clutha', 'Neg'), '598': ('clutha', 'SP'), '599': ('clutha', 'ssp119'), '600': ('clutha', 'ssp534-over'), '601': ('jokulsa_a_fjollum', 'CurPol'), '602': ('jokulsa_a_fjollum', 'GS'), '603': ('jokulsa_a_fjollum', 'LD'), '604': ('jokulsa_a_fjollum', 'ModAct'), '605': ('jokulsa_a_fjollum', 'Ref'), '606': ('jokulsa_a_fjollum', 'Ren'), '607': ('jokulsa_a_fjollum', 'Neg'), '608': ('jokulsa_a_fjollum', 'SP'), '609': ('jokulsa_a_fjollum', 'ssp119'), '610': ('jokulsa_a_fjollum', 'ssp534-over'), '611': ('lagarfljot', 'CurPol'), '612': ('lagarfljot', 'GS'), '613': ('lagarfljot', 'LD'), '614': ('lagarfljot', 'ModAct'), '615': ('lagarfljot', 'Ref'), '616': ('lagarfljot', 'Ren'), '617': ('lagarfljot', 'Neg'), '618': ('lagarfljot', 'SP'), '619': ('lagarfljot', 'ssp119'), '620': ('lagarfljot', 'ssp534-over'), '621': ('svarta', 'CurPol'), '622': ('svarta', 'GS'), '623': ('svarta', 'LD'), '624': ('svarta', 'ModAct'), '625': ('svarta', 'Ref'), '626': ('svarta', 'Ren'), '627': ('svarta', 'Neg'), '628': ('svarta', 'SP'), '629': ('svarta', 'ssp119'), '630': ('svarta', 'ssp534-over'), '631': ('danube', 'CurPol'), '632': ('danube', 'GS'), '633': ('danube', 'LD'), '634': ('danube', 'ModAct'), '635': ('danube', 'Ref'), '636': ('danube', 'Ren'), '637': ('danube', 'Neg'), '638': ('danube', 'SP'), '639': ('danube', 'ssp119'), '640': ('danube', 'ssp534-over'), '641': ('dramselva', 'CurPol'), '642': ('dramselva', 'GS'), '643': ('dramselva', 'LD'), '644': ('dramselva', 'ModAct'), '645': ('dramselva', 'Ref'), '646': ('dramselva', 'Ren'), '647': ('dramselva', 'Neg'), '648': ('dramselva', 'SP'), '649': ('dramselva', 'ssp119'), '650': ('dramselva', 'ssp534-over'), '651': ('glomaa', 'CurPol'), '652': ('glomaa', 'GS'), '653': ('glomaa', 'LD'), '654': ('glomaa', 'ModAct'), '655': ('glomaa', 'Ref'), '656': ('glomaa', 'Ren'), '657': ('glomaa', 'Neg'), '658': ('glomaa', 'SP'), '659': ('glomaa', 'ssp119'), '660': ('glomaa', 'ssp534-over'), '661': ('kalixalven', 'CurPol'), '662': ('kalixalven', 'GS'), '663': ('kalixalven', 'LD'), '664': ('kalixalven', 'ModAct'), '665': ('kalixalven', 'Ref'), '666': ('kalixalven', 'Ren'), '667': ('kalixalven', 'Neg'), '668': ('kalixalven', 'SP'), '669': ('kalixalven', 'ssp119'), '670': ('kalixalven', 'ssp534-over'), '671': ('kuban', 'CurPol'), '672': ('kuban', 'GS'), '673': ('kuban', 'LD'), '674': ('kuban', 'ModAct'), '675': ('kuban', 'Ref'), '676': ('kuban', 'Ren'), '677': ('kuban', 'Neg'), '678': ('kuban', 'SP'), '679': ('kuban', 'ssp119'), '680': ('kuban', 'ssp534-over'), '681': ('lulealven', 'CurPol'), '682': ('lulealven', 'GS'), '683': ('lulealven', 'LD'), '684': ('lulealven', 'ModAct'), '685': ('lulealven', 'Ref'), '686': ('lulealven', 'Ren'), '687': ('lulealven', 'Neg'), '688': ('lulealven', 'SP'), '689': ('lulealven', 'ssp119'), '690': ('lulealven', 'ssp534-over'), '691': ('olfusa', 'CurPol'), '692': ('olfusa', 'GS'), '693': ('olfusa', 'LD'), '694': ('olfusa', 'ModAct'), '695': ('olfusa', 'Ref'), '696': ('olfusa', 'Ren'), '697': ('olfusa', 'Neg'), '698': ('olfusa', 'SP'), '699': ('olfusa', 'ssp119'), '700': ('olfusa', 'ssp534-over'), '701': ('po', 'CurPol'), '702': ('po', 'GS'), '703': ('po', 'LD'), '704': ('po', 'ModAct'), '705': ('po', 'Ref'), '706': ('po', 'Ren'), '707': ('po', 'Neg'), '708': ('po', 'SP'), '709': ('po', 'ssp119'), '710': ('po', 'ssp534-over'), '711': ('rhine', 'CurPol'), '712': ('rhine', 'GS'), '713': ('rhine', 'LD'), '714': ('rhine', 'ModAct'), '715': ('rhine', 'Ref'), '716': ('rhine', 'Ren'), '717': ('rhine', 'Neg'), '718': ('rhine', 'SP'), '719': ('rhine', 'ssp119'), '720': ('rhine', 'ssp534-over'), '721': ('rhone', 'CurPol'), '722': ('rhone', 'GS'), '723': ('rhone', 'LD'), '724': ('rhone', 'ModAct'), '725': ('rhone', 'Ref'), '726': ('rhone', 'Ren'), '727': ('rhone', 'Neg'), '728': ('rhone', 'SP'), '729': ('rhone', 'ssp119'), '730': ('rhone', 'ssp534-over'), '731': ('thjorsa', 'CurPol'), '732': ('thjorsa', 'GS'), '733': ('thjorsa', 'LD'), '734': ('thjorsa', 'ModAct'), '735': ('thjorsa', 'Ref'), '736': ('thjorsa', 'Ren'), '737': ('thjorsa', 'Neg'), '738': ('thjorsa', 'SP'), '739': ('thjorsa', 'ssp119'), '740': ('thjorsa', 'ssp534-over'), '741': ('tornealven', 'CurPol'), '742': ('tornealven', 'GS'), '743': ('tornealven', 'LD'), '744': ('tornealven', 'ModAct'), '745': ('tornealven', 'Ref'), '746': ('tornealven', 'Ren'), '747': ('tornealven', 'Neg'), '748': ('tornealven', 'SP'), '749': ('tornealven', 'ssp119'), '750': ('tornealven', 'ssp534-over')}\n"
     ]
    }
   ],
   "source": [
    "# create dict for sbatch --array=\n",
    "slurm_arrays = {}\n",
    "\n",
    "count = 1\n",
    "for region in region_structure_dict.keys():\n",
    "    for scenario in scenarios_mesmer:\n",
    "        slurm_arrays[str(count)] = (region, scenario)\n",
    "        count += 1\n",
    "\n",
    "if is_notebook:\n",
    "    print(slurm_arrays)"
   ]
  },
  {
   "cell_type": "markdown",
   "id": "9cc6351e-0e5e-4286-8b51-1fe196761c41",
   "metadata": {},
   "source": [
    "## run current experiment"
   ]
  },
  {
   "cell_type": "code",
   "execution_count": null,
   "id": "80c02146-9206-4305-a45f-ff5fd00a441f",
   "metadata": {},
   "outputs": [],
   "source": [
    "if not is_notebook:\n",
    "    slurm_id = os.environ.get('ARRAY_ID', None)\n",
    "    # convert slurm array to region and scenario\n",
    "    region, scenario = slurm_arrays[slurm_id]\n",
    "\n",
    "    # save results on cluster and copy at the end in run_slurm-file\n",
    "    working_dir_cluster = os.environ.get('OGGM_WORKDIR', None)\n",
    "\n",
    "    aggregated_data_outpath = os.path.join(\n",
    "        working_dir_cluster, 'aggregated_data')\n",
    "    mkdir(aggregated_data_outpath);\n",
    "\n",
    "    aggregated_data_intermediate_outpath = os.path.join(\n",
    "        preprocess_region_dict_outpath,\n",
    "        'aggregated_data_intermediate')\n",
    "    mkdir(aggregated_data_intermediate_outpath);\n",
    "\n",
    "    aggregating_scenario(\n",
    "            target_name=region,\n",
    "            target_structure_dict=region_structure_dict,\n",
    "            scenario=scenario,\n",
    "            output_folder=aggregated_data_outpath,\n",
    "            oggm_result_dir=oggm_result_dir,\n",
    "            raw_oggm_output_file=raw_oggm_output_file,\n",
    "            intermediate_data_folder=aggregated_data_intermediate_outpath,\n",
    "            variables=['volume', 'area', 'thinning_rate', 'runoff'],\n",
    "            risk_variables=['volume', 'area'],\n",
    "            risk_thresholds=np.append(np.arange(10, 91, 10), [99]),  # in % melted of 2020, 10% means 10% of 2020 melted\n",
    "            time_steps=np.arange(2015, 2101, 5),\n",
    "            reset_files=False\n",
    "        )"
   ]
  },
  {
   "cell_type": "markdown",
   "id": "551e20f7-1851-46db-a5e7-d25a926368fb",
   "metadata": {},
   "source": [
    "## check which experiments failed for rerunning"
   ]
  },
  {
   "cell_type": "code",
   "execution_count": 5,
   "id": "6097775a-526f-40a2-9a4c-157568ecd673",
   "metadata": {},
   "outputs": [
    {
     "name": "stdout",
     "output_type": "stream",
     "text": [
      "Files without 'SLURM DONE':\n",
      "sbatch --array=587,699,523,252,338,336,456,748,352,598,416,360,182,625,609,330,433,600,716,228,406,302,305,136,656,313,624,385,506,574,169,321,279,618,664,317,18,151,736,579,273,322,667,206,116,399,100,720,341,373,636,250,692,582,389,117,483,380,272,10,363,412,460,232,653,125,685,122,583,300,73,197,714,403,256,218,216 run_slurm_aggregation_workflow.sh\n"
     ]
    }
   ],
   "source": [
    "if is_notebook:\n",
    "    check_slurm_done(475437)"
   ]
  },
  {
   "cell_type": "code",
   "execution_count": 6,
   "id": "0a5e0bf7-9412-41aa-ba88-ff2e5e5bc77d",
   "metadata": {},
   "outputs": [
    {
     "name": "stdout",
     "output_type": "stream",
     "text": [
      "Files without 'SLURM DONE':\n",
      "sbatch --array=117,363,232,116,10,433,699 run_slurm_aggregation_workflow.sh\n"
     ]
    }
   ],
   "source": [
    "if is_notebook:\n",
    "    check_slurm_done(476465)"
   ]
  },
  {
   "cell_type": "code",
   "execution_count": 7,
   "id": "d826ac2c-696a-42d1-af4a-9d158d7e58f0",
   "metadata": {},
   "outputs": [
    {
     "name": "stdout",
     "output_type": "stream",
     "text": [
      "Files without 'SLURM DONE':\n",
      "sbatch --array=232,433 run_slurm_aggregation_workflow.sh\n"
     ]
    }
   ],
   "source": [
    "if is_notebook:\n",
    "    check_slurm_done(476556)"
   ]
  },
  {
   "cell_type": "code",
   "execution_count": 8,
   "id": "193b989b-25c7-46b9-b6e1-cecb4b814dd1",
   "metadata": {},
   "outputs": [
    {
     "name": "stdout",
     "output_type": "stream",
     "text": [
      "All files contain 'SLURM DONE'.\n"
     ]
    }
   ],
   "source": [
    "if is_notebook:\n",
    "    check_slurm_done(476580)"
   ]
  },
  {
   "cell_type": "code",
   "execution_count": null,
   "id": "0ba0d938-cb55-40c3-886c-b7710fc77f4a",
   "metadata": {},
   "outputs": [],
   "source": []
  }
 ],
 "metadata": {
  "jupytext": {
   "formats": "ipynb,py:light"
  },
  "kernelspec": {
   "display_name": "Python [conda env:oggm_env]",
   "language": "python",
   "name": "conda-env-oggm_env-py"
  },
  "language_info": {
   "codemirror_mode": {
    "name": "ipython",
    "version": 3
   },
   "file_extension": ".py",
   "mimetype": "text/x-python",
   "name": "python",
   "nbconvert_exporter": "python",
   "pygments_lexer": "ipython3",
   "version": "3.11.4"
  }
 },
 "nbformat": 4,
 "nbformat_minor": 5
}
