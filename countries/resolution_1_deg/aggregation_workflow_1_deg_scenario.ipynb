{
 "cells": [
  {
   "cell_type": "markdown",
   "id": "9354960e-57ef-4946-a6e8-6738d843a8d1",
   "metadata": {},
   "source": [
    "# Imports"
   ]
  },
  {
   "cell_type": "code",
   "execution_count": 2,
   "id": "71900536-6174-4d2a-81cb-b99de42a45f0",
   "metadata": {},
   "outputs": [],
   "source": [
    "import os\n",
    "import sys\n",
    "import json\n",
    "import xarray as xr\n",
    "import numpy as np\n",
    "import geopandas as gpd\n",
    "import matplotlib.pyplot as plt"
   ]
  },
  {
   "cell_type": "code",
   "execution_count": 3,
   "id": "8a3bc28b-3750-4c56-8f84-2687dbb7d95c",
   "metadata": {},
   "outputs": [],
   "source": [
    "# go up until we are in the project base directory\n",
    "base_dir = os.getcwd()\n",
    "while base_dir.split('/')[-1] != 'provide':\n",
    "    base_dir = os.path.normpath(os.path.join(base_dir, '..'))\n",
    "\n",
    "# add paths for tools and data\n",
    "things_to_add = ['general_tools', 'aggregation_tools', 'general_data_for_aggregation']\n",
    "for thing in things_to_add:\n",
    "    sys.path.append(os.path.join(base_dir, thing))\n",
    "\n",
    "# import stuff we need\n",
    "from general_tools import check_if_notebook, mkdir\n",
    "from oggm_result_filepath_and_realisations import (gcms_mesmer, quantiles_mesmer,\n",
    "    scenarios_mesmer, oggm_result_dir, provide_regions, raw_oggm_output_file)\n",
    "from aggregation_preprocessing import open_grid_from_dict\n",
    "from actual_aggregation import open_files_and_aggregate_on_map, aggregating_scenario, check_slurm_done"
   ]
  },
  {
   "cell_type": "code",
   "execution_count": 4,
   "id": "dc02dd72-15e8-4b98-862c-f505cea2bba0",
   "metadata": {},
   "outputs": [],
   "source": [
    "# Use this to conditionally execute tests/debugging\n",
    "if check_if_notebook():\n",
    "    is_notebook = True\n",
    "else:\n",
    "    is_notebook = False"
   ]
  },
  {
   "cell_type": "markdown",
   "id": "05510532-e4f8-4d01-adec-4c26cafb5e12",
   "metadata": {},
   "source": [
    "# Define directories"
   ]
  },
  {
   "cell_type": "code",
   "execution_count": 5,
   "id": "b3485fe2-7997-408f-a78f-46f9966efe23",
   "metadata": {},
   "outputs": [],
   "source": [
    "resolution_dir = 'resolution_1_deg'"
   ]
  },
  {
   "cell_type": "code",
   "execution_count": 6,
   "id": "79e55adf-c4db-402f-bb8a-d0f734f8f9c2",
   "metadata": {},
   "outputs": [],
   "source": [
    "preprocess_country_dict_outpath = os.path.join(base_dir, 'countries', resolution_dir)\n",
    "mkdir(preprocess_country_dict_outpath);"
   ]
  },
  {
   "cell_type": "markdown",
   "id": "129ce9d5-24ed-4c0f-b50b-f1b968c760c7",
   "metadata": {},
   "source": [
    "# Open data"
   ]
  },
  {
   "cell_type": "code",
   "execution_count": 7,
   "id": "ac9386ee-37f2-42b9-8551-5582fcc57e12",
   "metadata": {},
   "outputs": [],
   "source": [
    "with open(os.path.join(preprocess_country_dict_outpath, \"preprocessed_country_grids.json\"), 'r') as f:\n",
    "    country_structure_dict = json.load(f)"
   ]
  },
  {
   "cell_type": "markdown",
   "id": "c4265641-76e8-4e41-a470-3f07e4418b1e",
   "metadata": {},
   "source": [
    "# Code for running on cluster"
   ]
  },
  {
   "cell_type": "markdown",
   "id": "2341ce12-b1da-4d1a-8455-35284e5f4282",
   "metadata": {},
   "source": [
    "## define experiments for multiprocessing"
   ]
  },
  {
   "cell_type": "code",
   "execution_count": 15,
   "id": "1d004caf-7615-4181-8235-ec38fe37d268",
   "metadata": {
    "scrolled": true
   },
   "outputs": [
    {
     "name": "stdout",
     "output_type": "stream",
     "text": [
      "{'1': ('CHL', 'CurPol'), '2': ('CHL', 'GS'), '3': ('CHL', 'LD'), '4': ('CHL', 'ModAct'), '5': ('CHL', 'Ref'), '6': ('CHL', 'Ren'), '7': ('CHL', 'Neg'), '8': ('CHL', 'SP'), '9': ('CHL', 'ssp119'), '10': ('CHL', 'ssp534-over'), '11': ('CHN', 'CurPol'), '12': ('CHN', 'GS'), '13': ('CHN', 'LD'), '14': ('CHN', 'ModAct'), '15': ('CHN', 'Ref'), '16': ('CHN', 'Ren'), '17': ('CHN', 'Neg'), '18': ('CHN', 'SP'), '19': ('CHN', 'ssp119'), '20': ('CHN', 'ssp534-over'), '21': ('DEU', 'CurPol'), '22': ('DEU', 'GS'), '23': ('DEU', 'LD'), '24': ('DEU', 'ModAct'), '25': ('DEU', 'Ref'), '26': ('DEU', 'Ren'), '27': ('DEU', 'Neg'), '28': ('DEU', 'SP'), '29': ('DEU', 'ssp119'), '30': ('DEU', 'ssp534-over'), '31': ('NPL', 'CurPol'), '32': ('NPL', 'GS'), '33': ('NPL', 'LD'), '34': ('NPL', 'ModAct'), '35': ('NPL', 'Ref'), '36': ('NPL', 'Ren'), '37': ('NPL', 'Neg'), '38': ('NPL', 'SP'), '39': ('NPL', 'ssp119'), '40': ('NPL', 'ssp534-over'), '41': ('UZB', 'CurPol'), '42': ('UZB', 'GS'), '43': ('UZB', 'LD'), '44': ('UZB', 'ModAct'), '45': ('UZB', 'Ref'), '46': ('UZB', 'Ren'), '47': ('UZB', 'Neg'), '48': ('UZB', 'SP'), '49': ('UZB', 'ssp119'), '50': ('UZB', 'ssp534-over'), '51': ('FRA', 'CurPol'), '52': ('FRA', 'GS'), '53': ('FRA', 'LD'), '54': ('FRA', 'ModAct'), '55': ('FRA', 'Ref'), '56': ('FRA', 'Ren'), '57': ('FRA', 'Neg'), '58': ('FRA', 'SP'), '59': ('FRA', 'ssp119'), '60': ('FRA', 'ssp534-over'), '61': ('AUT', 'CurPol'), '62': ('AUT', 'GS'), '63': ('AUT', 'LD'), '64': ('AUT', 'ModAct'), '65': ('AUT', 'Ref'), '66': ('AUT', 'Ren'), '67': ('AUT', 'Neg'), '68': ('AUT', 'SP'), '69': ('AUT', 'ssp119'), '70': ('AUT', 'ssp534-over'), '71': ('BOL', 'CurPol'), '72': ('BOL', 'GS'), '73': ('BOL', 'LD'), '74': ('BOL', 'ModAct'), '75': ('BOL', 'Ref'), '76': ('BOL', 'Ren'), '77': ('BOL', 'Neg'), '78': ('BOL', 'SP'), '79': ('BOL', 'ssp119'), '80': ('BOL', 'ssp534-over'), '81': ('CAN', 'CurPol'), '82': ('CAN', 'GS'), '83': ('CAN', 'LD'), '84': ('CAN', 'ModAct'), '85': ('CAN', 'Ref'), '86': ('CAN', 'Ren'), '87': ('CAN', 'Neg'), '88': ('CAN', 'SP'), '89': ('CAN', 'ssp119'), '90': ('CAN', 'ssp534-over'), '91': ('TUR', 'CurPol'), '92': ('TUR', 'GS'), '93': ('TUR', 'LD'), '94': ('TUR', 'ModAct'), '95': ('TUR', 'Ref'), '96': ('TUR', 'Ren'), '97': ('TUR', 'Neg'), '98': ('TUR', 'SP'), '99': ('TUR', 'ssp119'), '100': ('TUR', 'ssp534-over'), '101': ('AFG', 'CurPol'), '102': ('AFG', 'GS'), '103': ('AFG', 'LD'), '104': ('AFG', 'ModAct'), '105': ('AFG', 'Ref'), '106': ('AFG', 'Ren'), '107': ('AFG', 'Neg'), '108': ('AFG', 'SP'), '109': ('AFG', 'ssp119'), '110': ('AFG', 'ssp534-over'), '111': ('PER', 'CurPol'), '112': ('PER', 'GS'), '113': ('PER', 'LD'), '114': ('PER', 'ModAct'), '115': ('PER', 'Ref'), '116': ('PER', 'Ren'), '117': ('PER', 'Neg'), '118': ('PER', 'SP'), '119': ('PER', 'ssp119'), '120': ('PER', 'ssp534-over'), '121': ('TJK', 'CurPol'), '122': ('TJK', 'GS'), '123': ('TJK', 'LD'), '124': ('TJK', 'ModAct'), '125': ('TJK', 'Ref'), '126': ('TJK', 'Ren'), '127': ('TJK', 'Neg'), '128': ('TJK', 'SP'), '129': ('TJK', 'ssp119'), '130': ('TJK', 'ssp534-over'), '131': ('NZL', 'CurPol'), '132': ('NZL', 'GS'), '133': ('NZL', 'LD'), '134': ('NZL', 'ModAct'), '135': ('NZL', 'Ref'), '136': ('NZL', 'Ren'), '137': ('NZL', 'Neg'), '138': ('NZL', 'SP'), '139': ('NZL', 'ssp119'), '140': ('NZL', 'ssp534-over'), '141': ('IND', 'CurPol'), '142': ('IND', 'GS'), '143': ('IND', 'LD'), '144': ('IND', 'ModAct'), '145': ('IND', 'Ref'), '146': ('IND', 'Ren'), '147': ('IND', 'Neg'), '148': ('IND', 'SP'), '149': ('IND', 'ssp119'), '150': ('IND', 'ssp534-over'), '151': ('COL', 'CurPol'), '152': ('COL', 'GS'), '153': ('COL', 'LD'), '154': ('COL', 'ModAct'), '155': ('COL', 'Ref'), '156': ('COL', 'Ren'), '157': ('COL', 'Neg'), '158': ('COL', 'SP'), '159': ('COL', 'ssp119'), '160': ('COL', 'ssp534-over'), '161': ('KAZ', 'CurPol'), '162': ('KAZ', 'GS'), '163': ('KAZ', 'LD'), '164': ('KAZ', 'ModAct'), '165': ('KAZ', 'Ref'), '166': ('KAZ', 'Ren'), '167': ('KAZ', 'Neg'), '168': ('KAZ', 'SP'), '169': ('KAZ', 'ssp119'), '170': ('KAZ', 'ssp534-over'), '171': ('ALB', 'CurPol'), '172': ('ALB', 'GS'), '173': ('ALB', 'LD'), '174': ('ALB', 'ModAct'), '175': ('ALB', 'Ref'), '176': ('ALB', 'Ren'), '177': ('ALB', 'Neg'), '178': ('ALB', 'SP'), '179': ('ALB', 'ssp119'), '180': ('ALB', 'ssp534-over'), '181': ('GRL', 'CurPol'), '182': ('GRL', 'GS'), '183': ('GRL', 'LD'), '184': ('GRL', 'ModAct'), '185': ('GRL', 'Ref'), '186': ('GRL', 'Ren'), '187': ('GRL', 'Neg'), '188': ('GRL', 'SP'), '189': ('GRL', 'ssp119'), '190': ('GRL', 'ssp534-over'), '191': ('MMR', 'CurPol'), '192': ('MMR', 'GS'), '193': ('MMR', 'LD'), '194': ('MMR', 'ModAct'), '195': ('MMR', 'Ref'), '196': ('MMR', 'Ren'), '197': ('MMR', 'Neg'), '198': ('MMR', 'SP'), '199': ('MMR', 'ssp119'), '200': ('MMR', 'ssp534-over'), '201': ('ISL', 'CurPol'), '202': ('ISL', 'GS'), '203': ('ISL', 'LD'), '204': ('ISL', 'ModAct'), '205': ('ISL', 'Ref'), '206': ('ISL', 'Ren'), '207': ('ISL', 'Neg'), '208': ('ISL', 'SP'), '209': ('ISL', 'ssp119'), '210': ('ISL', 'ssp534-over'), '211': ('CHE', 'CurPol'), '212': ('CHE', 'GS'), '213': ('CHE', 'LD'), '214': ('CHE', 'ModAct'), '215': ('CHE', 'Ref'), '216': ('CHE', 'Ren'), '217': ('CHE', 'Neg'), '218': ('CHE', 'SP'), '219': ('CHE', 'ssp119'), '220': ('CHE', 'ssp534-over'), '221': ('SVN', 'CurPol'), '222': ('SVN', 'GS'), '223': ('SVN', 'LD'), '224': ('SVN', 'ModAct'), '225': ('SVN', 'Ref'), '226': ('SVN', 'Ren'), '227': ('SVN', 'Neg'), '228': ('SVN', 'SP'), '229': ('SVN', 'ssp119'), '230': ('SVN', 'ssp534-over'), '231': ('MNE', 'CurPol'), '232': ('MNE', 'GS'), '233': ('MNE', 'LD'), '234': ('MNE', 'ModAct'), '235': ('MNE', 'Ref'), '236': ('MNE', 'Ren'), '237': ('MNE', 'Neg'), '238': ('MNE', 'SP'), '239': ('MNE', 'ssp119'), '240': ('MNE', 'ssp534-over'), '241': ('NOR', 'CurPol'), '242': ('NOR', 'GS'), '243': ('NOR', 'LD'), '244': ('NOR', 'ModAct'), '245': ('NOR', 'Ref'), '246': ('NOR', 'Ren'), '247': ('NOR', 'Neg'), '248': ('NOR', 'SP'), '249': ('NOR', 'ssp119'), '250': ('NOR', 'ssp534-over'), '251': ('MNG', 'CurPol'), '252': ('MNG', 'GS'), '253': ('MNG', 'LD'), '254': ('MNG', 'ModAct'), '255': ('MNG', 'Ref'), '256': ('MNG', 'Ren'), '257': ('MNG', 'Neg'), '258': ('MNG', 'SP'), '259': ('MNG', 'ssp119'), '260': ('MNG', 'ssp534-over'), '261': ('ITA', 'CurPol'), '262': ('ITA', 'GS'), '263': ('ITA', 'LD'), '264': ('ITA', 'ModAct'), '265': ('ITA', 'Ref'), '266': ('ITA', 'Ren'), '267': ('ITA', 'Neg'), '268': ('ITA', 'SP'), '269': ('ITA', 'ssp119'), '270': ('ITA', 'ssp534-over'), '271': ('ESP', 'CurPol'), '272': ('ESP', 'GS'), '273': ('ESP', 'LD'), '274': ('ESP', 'ModAct'), '275': ('ESP', 'Ref'), '276': ('ESP', 'Ren'), '277': ('ESP', 'Neg'), '278': ('ESP', 'SP'), '279': ('ESP', 'ssp119'), '280': ('ESP', 'ssp534-over'), '281': ('MEX', 'CurPol'), '282': ('MEX', 'GS'), '283': ('MEX', 'LD'), '284': ('MEX', 'ModAct'), '285': ('MEX', 'Ref'), '286': ('MEX', 'Ren'), '287': ('MEX', 'Neg'), '288': ('MEX', 'SP'), '289': ('MEX', 'ssp119'), '290': ('MEX', 'ssp534-over'), '291': ('KGZ', 'CurPol'), '292': ('KGZ', 'GS'), '293': ('KGZ', 'LD'), '294': ('KGZ', 'ModAct'), '295': ('KGZ', 'Ref'), '296': ('KGZ', 'Ren'), '297': ('KGZ', 'Neg'), '298': ('KGZ', 'SP'), '299': ('KGZ', 'ssp119'), '300': ('KGZ', 'ssp534-over'), '301': ('ECU', 'CurPol'), '302': ('ECU', 'GS'), '303': ('ECU', 'LD'), '304': ('ECU', 'ModAct'), '305': ('ECU', 'Ref'), '306': ('ECU', 'Ren'), '307': ('ECU', 'Neg'), '308': ('ECU', 'SP'), '309': ('ECU', 'ssp119'), '310': ('ECU', 'ssp534-over'), '311': ('SWE', 'CurPol'), '312': ('SWE', 'GS'), '313': ('SWE', 'LD'), '314': ('SWE', 'ModAct'), '315': ('SWE', 'Ref'), '316': ('SWE', 'Ren'), '317': ('SWE', 'Neg'), '318': ('SWE', 'SP'), '319': ('SWE', 'ssp119'), '320': ('SWE', 'ssp534-over'), '321': ('ARG', 'CurPol'), '322': ('ARG', 'GS'), '323': ('ARG', 'LD'), '324': ('ARG', 'ModAct'), '325': ('ARG', 'Ref'), '326': ('ARG', 'Ren'), '327': ('ARG', 'Neg'), '328': ('ARG', 'SP'), '329': ('ARG', 'ssp119'), '330': ('ARG', 'ssp534-over'), '331': ('RUS', 'CurPol'), '332': ('RUS', 'GS'), '333': ('RUS', 'LD'), '334': ('RUS', 'ModAct'), '335': ('RUS', 'Ref'), '336': ('RUS', 'Ren'), '337': ('RUS', 'Neg'), '338': ('RUS', 'SP'), '339': ('RUS', 'ssp119'), '340': ('RUS', 'ssp534-over'), '341': ('BTN', 'CurPol'), '342': ('BTN', 'GS'), '343': ('BTN', 'LD'), '344': ('BTN', 'ModAct'), '345': ('BTN', 'Ref'), '346': ('BTN', 'Ren'), '347': ('BTN', 'Neg'), '348': ('BTN', 'SP'), '349': ('BTN', 'ssp119'), '350': ('BTN', 'ssp534-over'), '351': ('USA', 'CurPol'), '352': ('USA', 'GS'), '353': ('USA', 'LD'), '354': ('USA', 'ModAct'), '355': ('USA', 'Ref'), '356': ('USA', 'Ren'), '357': ('USA', 'Neg'), '358': ('USA', 'SP'), '359': ('USA', 'ssp119'), '360': ('USA', 'ssp534-over'), '361': ('PAK', 'CurPol'), '362': ('PAK', 'GS'), '363': ('PAK', 'LD'), '364': ('PAK', 'ModAct'), '365': ('PAK', 'Ref'), '366': ('PAK', 'Ren'), '367': ('PAK', 'Neg'), '368': ('PAK', 'SP'), '369': ('PAK', 'ssp119'), '370': ('PAK', 'ssp534-over'), '371': ('IRN', 'CurPol'), '372': ('IRN', 'GS'), '373': ('IRN', 'LD'), '374': ('IRN', 'ModAct'), '375': ('IRN', 'Ref'), '376': ('IRN', 'Ren'), '377': ('IRN', 'Neg'), '378': ('IRN', 'SP'), '379': ('IRN', 'ssp119'), '380': ('IRN', 'ssp534-over'), '381': ('GEO', 'CurPol'), '382': ('GEO', 'GS'), '383': ('GEO', 'LD'), '384': ('GEO', 'ModAct'), '385': ('GEO', 'Ref'), '386': ('GEO', 'Ren'), '387': ('GEO', 'Neg'), '388': ('GEO', 'SP'), '389': ('GEO', 'ssp119'), '390': ('GEO', 'ssp534-over'), '391': ('VEN', 'CurPol'), '392': ('VEN', 'GS'), '393': ('VEN', 'LD'), '394': ('VEN', 'ModAct'), '395': ('VEN', 'Ref'), '396': ('VEN', 'Ren'), '397': ('VEN', 'Neg'), '398': ('VEN', 'SP'), '399': ('VEN', 'ssp119'), '400': ('VEN', 'ssp534-over')}\n"
     ]
    }
   ],
   "source": [
    "# create dict for sbatch --array=\n",
    "slurm_arrays = {}\n",
    "\n",
    "count = 1\n",
    "for country in country_structure_dict.keys():\n",
    "    for scenario in scenarios_mesmer:\n",
    "        slurm_arrays[str(count)] = (country, scenario)\n",
    "        count += 1\n",
    "\n",
    "if is_notebook:\n",
    "    print(slurm_arrays)"
   ]
  },
  {
   "cell_type": "markdown",
   "id": "9cc6351e-0e5e-4286-8b51-1fe196761c41",
   "metadata": {},
   "source": [
    "## run current experiment"
   ]
  },
  {
   "cell_type": "code",
   "execution_count": null,
   "id": "80c02146-9206-4305-a45f-ff5fd00a441f",
   "metadata": {},
   "outputs": [],
   "source": [
    "if not is_notebook:\n",
    "    slurm_id = os.environ.get('ARRAY_ID', None)\n",
    "    # convert slurm array to region and scenario\n",
    "    country, scenario = slurm_arrays[slurm_id]\n",
    "\n",
    "    # save results on cluster and copy at the end in run_slurm-file\n",
    "    working_dir_cluster = os.environ.get('OGGM_WORKDIR', None)\n",
    "\n",
    "    aggregated_data_outpath = os.path.join(\n",
    "        working_dir_cluster, 'aggregated_data')\n",
    "    mkdir(aggregated_data_outpath);\n",
    "\n",
    "    aggregated_data_intermediate_outpath = os.path.join(\n",
    "        preprocess_country_dict_outpath,\n",
    "        'aggregated_data_intermediate')\n",
    "    mkdir(aggregated_data_intermediate_outpath);\n",
    "\n",
    "    aggregating_scenario(\n",
    "            target_name=country,\n",
    "            target_structure_dict=country_structure_dict,\n",
    "            scenario=scenario,\n",
    "            output_folder=aggregated_data_outpath,\n",
    "            oggm_result_dir=oggm_result_dir,\n",
    "            raw_oggm_output_file=raw_oggm_output_file,\n",
    "            intermediate_data_folder=aggregated_data_intermediate_outpath,\n",
    "            variables=['volume', 'area', 'thinning_rate'],\n",
    "            risk_variables=['volume', 'area'],\n",
    "            risk_thresholds=np.append(np.arange(10, 91, 10), [99]),  # in % melted of 2020, 10% means 10% of 2020 melted\n",
    "            time_steps=np.arange(2015, 2101, 5),\n",
    "            reset_files=False\n",
    "        )"
   ]
  },
  {
   "cell_type": "markdown",
   "id": "551e20f7-1851-46db-a5e7-d25a926368fb",
   "metadata": {},
   "source": [
    "## check which experiments failed for rerunning"
   ]
  },
  {
   "cell_type": "code",
   "execution_count": 6,
   "id": "6097775a-526f-40a2-9a4c-157568ecd673",
   "metadata": {},
   "outputs": [
    {
     "name": "stdout",
     "output_type": "stream",
     "text": [
      "Files without 'SLURM DONE':\n",
      "sbatch --array=300,258,134,256,347,264,106,351,318,5,99,107,100,219,73,257,191,301,259,123,317,187,297,273,88,325,245,293,184,366,328,104,39,266,42,195,144,370,228,192,302,221,203,367,130,371,142,283,145,177,260,105 run_slurm_aggregation_workflow.sh\n"
     ]
    }
   ],
   "source": [
    "if is_notebook:\n",
    "    check_slurm_done(435675)"
   ]
  },
  {
   "cell_type": "code",
   "execution_count": 7,
   "id": "0a5e0bf7-9412-41aa-ba88-ff2e5e5bc77d",
   "metadata": {},
   "outputs": [
    {
     "name": "stdout",
     "output_type": "stream",
     "text": [
      "Files without 'SLURM DONE':\n",
      "sbatch --array=106,297,293,245,177 run_slurm_aggregation_workflow.sh\n"
     ]
    }
   ],
   "source": [
    "if is_notebook:\n",
    "    check_slurm_done(436286)"
   ]
  },
  {
   "cell_type": "code",
   "execution_count": 8,
   "id": "dac7728a-e005-4174-9639-e03f0fb27039",
   "metadata": {},
   "outputs": [
    {
     "name": "stdout",
     "output_type": "stream",
     "text": [
      "All files contain 'SLURM DONE'.\n"
     ]
    }
   ],
   "source": [
    "if is_notebook:\n",
    "    check_slurm_done(436387)"
   ]
  },
  {
   "cell_type": "code",
   "execution_count": null,
   "id": "934863c3-9fa6-488b-967c-24c71eeb3192",
   "metadata": {},
   "outputs": [],
   "source": []
  }
 ],
 "metadata": {
  "jupytext": {
   "formats": "ipynb,py:light"
  },
  "kernelspec": {
   "display_name": "Python [conda env:oggm_env]",
   "language": "python",
   "name": "conda-env-oggm_env-py"
  },
  "language_info": {
   "codemirror_mode": {
    "name": "ipython",
    "version": 3
   },
   "file_extension": ".py",
   "mimetype": "text/x-python",
   "name": "python",
   "nbconvert_exporter": "python",
   "pygments_lexer": "ipython3",
   "version": "3.11.4"
  }
 },
 "nbformat": 4,
 "nbformat_minor": 5
}
