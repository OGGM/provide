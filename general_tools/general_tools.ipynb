{
 "cells": [
  {
   "cell_type": "markdown",
   "id": "0561415b-4663-404d-bd36-7d414bbf299d",
   "metadata": {},
   "source": [
    "# Notebook or script?\n",
    "\n",
    "If we developing or debugging the code in the notebook we use the is_notebook, if executed as a script on the cluster we ignore everything related to is_notebook.\n",
    "\n",
    "- You can connect the script and the notebook automatically using jupytext https://jupytext.readthedocs.io/en/latest/install.html.\n",
    "- Or, whenever something is changed, you must 'Save and Export Notebook As...' 'Executeable Script'."
   ]
  },
  {
   "cell_type": "code",
   "execution_count": 1,
   "id": "e72538d3-9a89-47bf-a960-27c079334650",
   "metadata": {},
   "outputs": [],
   "source": [
    "# Function to detect if we're running in a Jupyter notebook\n",
    "def check_if_notebook():\n",
    "    try:\n",
    "        shell_name = get_ipython().__class__.__name__\n",
    "        if shell_name == 'ZMQInteractiveShell':\n",
    "            return True   # Jupyter notebook or JupyterLab\n",
    "        elif shell_name in ['TerminalInteractiveShell', 'InteractiveShell']:\n",
    "            return False  # IPython terminal or other interactive shells\n",
    "        else:\n",
    "            # Fallback or default behavior for unidentified environments\n",
    "            return False\n",
    "    except NameError:\n",
    "        return False      # Not in IPython, likely standard Python interpreter"
   ]
  },
  {
   "cell_type": "code",
   "execution_count": null,
   "id": "dc89a1b3-39cc-42f6-a6b1-7430c902d651",
   "metadata": {},
   "outputs": [],
   "source": []
  }
 ],
 "metadata": {
  "jupytext": {
   "formats": "ipynb,auto:light"
  },
  "kernelspec": {
   "display_name": "Python [conda env:oggm_env]",
   "language": "python",
   "name": "conda-env-oggm_env-py"
  },
  "language_info": {
   "codemirror_mode": {
    "name": "ipython",
    "version": 3
   },
   "file_extension": ".py",
   "mimetype": "text/x-python",
   "name": "python",
   "nbconvert_exporter": "python",
   "pygments_lexer": "ipython3",
   "version": "3.11.4"
  }
 },
 "nbformat": 4,
 "nbformat_minor": 5
}
