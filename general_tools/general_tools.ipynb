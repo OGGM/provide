{
 "cells": [
  {
   "cell_type": "markdown",
   "id": "3991e4fb-ba7c-485b-9178-93cc27f57509",
   "metadata": {},
   "source": [
    "# Imports"
   ]
  },
  {
   "cell_type": "code",
   "execution_count": null,
   "id": "610d7a75-f143-416f-bf90-81f80a0dd84e",
   "metadata": {},
   "outputs": [],
   "source": [
    "import os\n",
    "import shutil"
   ]
  },
  {
   "cell_type": "markdown",
   "id": "0561415b-4663-404d-bd36-7d414bbf299d",
   "metadata": {},
   "source": [
    "# Notebook or script?\n",
    "\n",
    "If we developing or debugging the code in the notebook we use the is_notebook, if executed as a script on the cluster we ignore everything related to is_notebook.\n",
    "\n",
    "- You can connect the script and the notebook automatically using jupytext https://jupytext.readthedocs.io/en/latest/install.html.\n",
    "- Or, whenever something is changed, you must 'Save and Export Notebook As...' 'Executeable Script'."
   ]
  },
  {
   "cell_type": "code",
   "execution_count": 1,
   "id": "e72538d3-9a89-47bf-a960-27c079334650",
   "metadata": {},
   "outputs": [],
   "source": [
    "# Function to detect if we're running in a Jupyter notebook\n",
    "def check_if_notebook():\n",
    "    try:\n",
    "        shell_name = get_ipython().__class__.__name__\n",
    "        if shell_name == 'ZMQInteractiveShell':\n",
    "            return True   # Jupyter notebook or JupyterLab\n",
    "        elif shell_name in ['TerminalInteractiveShell', 'InteractiveShell']:\n",
    "            return False  # IPython terminal or other interactive shells\n",
    "        else:\n",
    "            # Fallback or default behavior for unidentified environments\n",
    "            return False\n",
    "    except NameError:\n",
    "        return False      # Not in IPython, likely standard Python interpreter"
   ]
  },
  {
   "cell_type": "markdown",
   "id": "ec3b167f-422b-403d-b00c-2fdbddf475b2",
   "metadata": {},
   "source": [
    "# mkdir adapted from OGGM utils"
   ]
  },
  {
   "cell_type": "code",
   "execution_count": null,
   "id": "dcaca945-599b-445a-8f5f-1ac6c9e8cf26",
   "metadata": {},
   "outputs": [],
   "source": [
    "def mkdir(path, reset=False):\n",
    "    \"\"\"Checks if directory exists and if not, create one.\n",
    "\n",
    "    Parameters\n",
    "    ----------\n",
    "    reset: erase the content of the directory if exists\n",
    "\n",
    "    Returns\n",
    "    -------\n",
    "    the path\n",
    "    \"\"\"\n",
    "\n",
    "    if reset and os.path.exists(path):\n",
    "        shutil.rmtree(path)\n",
    "        # deleting stuff takes time\n",
    "        while os.path.exists(path):  # check if it still exists\n",
    "            pass\n",
    "    try:\n",
    "        os.makedirs(path)\n",
    "    except FileExistsError:\n",
    "        pass\n",
    "    return path"
   ]
  }
 ],
 "metadata": {
  "jupytext": {
   "formats": "ipynb,py:light"
  },
  "kernelspec": {
   "display_name": "Python [conda env:oggm_env]",
   "language": "python",
   "name": "conda-env-oggm_env-py"
  },
  "language_info": {
   "codemirror_mode": {
    "name": "ipython",
    "version": 3
   },
   "file_extension": ".py",
   "mimetype": "text/x-python",
   "name": "python",
   "nbconvert_exporter": "python",
   "pygments_lexer": "ipython3",
   "version": "3.11.4"
  }
 },
 "nbformat": 4,
 "nbformat_minor": 5
}
